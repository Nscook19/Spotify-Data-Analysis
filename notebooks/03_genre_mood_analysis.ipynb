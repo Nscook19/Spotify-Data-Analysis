{
 "cells": [
  {
   "cell_type": "markdown",
   "id": "97d314aa",
   "metadata": {},
   "source": [
    "# Adding Genre Data via Spotipy and Spotify API Access\n",
    "- This will allow me to do more in depth analysis on my data"
   ]
  },
  {
   "cell_type": "code",
   "execution_count": 12,
   "id": "0684bd1f",
   "metadata": {},
   "outputs": [],
   "source": [
    "import os\n",
    "from dotenv import load_dotenv\n",
    "import spotipy\n",
    "from spotipy.oauth2 import SpotifyClientCredentials\n",
    "\n",
    "# Load variables from .env file\n",
    "load_dotenv()\n",
    "\n",
    "client_id = os.getenv('SPOTIPY_CLIENT_ID')\n",
    "client_secret = os.getenv('SPOTIPY_CLIENT_SECRET')\n",
    "\n",
    "auth_manager = SpotifyClientCredentials(client_id=client_id, client_secret=client_secret)\n",
    "sp = spotipy.Spotify(auth_manager=auth_manager)"
   ]
  },
  {
   "cell_type": "code",
   "execution_count": 13,
   "id": "3e8ef9a3",
   "metadata": {},
   "outputs": [
    {
     "name": "stdout",
     "output_type": "stream",
     "text": [
      "Found 5251 unique artists in your listening history\n",
      "Loading artist_genre_map from cache...\n"
     ]
    }
   ],
   "source": [
    "import pandas as pd\n",
    "import os\n",
    "import json\n",
    "\n",
    "# Load your actual Spotify data (same as in initial exploration)\n",
    "data_path = '../data/Spotify Extended Streaming History'\n",
    "dfs = []\n",
    "\n",
    "for file in os.listdir(data_path):\n",
    "    if file.endswith('.json') and file != 'artist_genre_map.json':\n",
    "        dfs.append(pd.read_json(os.path.join(data_path, file)))\n",
    "\n",
    "df = pd.concat(dfs, ignore_index=True)\n",
    "\n",
    "# Clean up the data\n",
    "df['ts'] = pd.to_datetime(df['ts'])\n",
    "df['year'] = df['ts'].dt.year\n",
    "df['month'] = df['ts'].dt.month\n",
    "df['hour'] = df['ts'].dt.hour\n",
    "\n",
    "df.rename(columns={'master_metadata_album_artist_name': 'artist', 'master_metadata_track_name': 'track'}, inplace=True)\n",
    "\n",
    "# Get all unique artists from your listening history\n",
    "unique_artists = df['artist'].dropna().unique()\n",
    "print(f\"Found {len(unique_artists)} unique artists in your listening history\")\n",
    "\n",
    "genre_map_path = os.path.join(data_path, 'artist_genre_map.json')\n",
    "\n",
    "if os.path.exists(genre_map_path):\n",
    "    print(\"Loading artist_genre_map from cache...\")\n",
    "    with open(genre_map_path, 'r', encoding='utf-8') as f:\n",
    "        if os.stat(genre_map_path).st_size == 0:  # Check if the file is empty\n",
    "            print(\"The artist_genre_map.json file is empty. Initializing an empty dictionary.\")\n",
    "            artist_genre_map = {}\n",
    "        else:\n",
    "            artist_genre_map = json.load(f)\n",
    "else:\n",
    "    print(\"Generating artist_genre_map from Spotify API...\")\n",
    "    artist_genre_map = {}\n",
    "    processed = 0\n",
    "\n",
    "    for artist in unique_artists:\n",
    "        try:\n",
    "            results = sp.search(q=f'artist:{artist}', type='artist', limit=1)\n",
    "            items = results['artists']['items']\n",
    "            if items:\n",
    "                genres = items[0]['genres']\n",
    "                artist_genre_map[artist] = genres\n",
    "            else:\n",
    "                artist_genre_map[artist] = []\n",
    "\n",
    "            processed += 1\n",
    "            if processed % 50 == 0:\n",
    "                print(f\"Processed {processed}/{len(unique_artists)} artists\")\n",
    "\n",
    "        except Exception as e:\n",
    "            print(f\"Error with {artist}: {e}\")\n",
    "            artist_genre_map[artist] = []\n",
    "\n",
    "    with open(genre_map_path, 'w', encoding='utf-8') as f:\n",
    "        json.dump(artist_genre_map, f, indent=2)\n",
    "    print(\"Saved artist_genre_map to JSON.\")"
   ]
  },
  {
   "cell_type": "code",
   "execution_count": 14,
   "id": "2f269c57",
   "metadata": {},
   "outputs": [
    {
     "name": "stdout",
     "output_type": "stream",
     "text": [
      "Dropped 120,702 plays with unknown genres\n",
      "\n",
      "Total plays: 118,263\n",
      "Unique genres: 378\n",
      "\n",
      "Top 10 genres by play count:\n",
      "genre\n",
      "rap                     41052\n",
      "rage rap                14310\n",
      "melodic rap             13662\n",
      "hip hop                  6361\n",
      "r&b                      2723\n",
      "chicago drill            1980\n",
      "metal                    1800\n",
      "alternative hip hop      1796\n",
      "southern hip hop         1765\n",
      "experimental hip hop     1678\n",
      "Name: count, dtype: int64\n",
      "\n",
      "Sample of artists with their genres:\n",
      "                                             artist              genre\n",
      "0                                     Drowning Pool           nu metal\n",
      "1                                       DevilDriver       groove metal\n",
      "2                                         Disturbed              metal\n",
      "3                                         Metallica              metal\n",
      "4                          Rage Against The Machine          rap metal\n",
      "5                                       Linkin Park           nu metal\n",
      "8                                          Godsmack           nu metal\n",
      "11                                         Slipknot           nu metal\n",
      "13                                 System Of A Down           nu metal\n",
      "18                                 Three Days Grace        post-grunge\n",
      "21                                   Alien Ant Farm           nu metal\n",
      "25                                   Marilyn Manson   industrial metal\n",
      "27                                      Limp Bizkit           nu metal\n",
      "28                                     Machine Head       groove metal\n",
      "108                                           Drake                rap\n",
      "133  The Presidents Of The United States Of America             grunge\n",
      "134                                Smile Empty Soul        post-grunge\n",
      "135                               Breaking Benjamin  alternative metal\n",
      "137                                          Saliva           nu metal\n",
      "163                                           Trapt        post-grunge\n"
     ]
    }
   ],
   "source": [
    "# --- Assign genres and clean ---\n",
    "df['genre'] = df['artist'].map(lambda a: artist_genre_map.get(a, ['Unknown'])[0] if artist_genre_map.get(a) else 'Unknown')\n",
    "\n",
    "# Filter out unknown genres\n",
    "before = len(df)\n",
    "df = df[df['genre'] != 'Unknown']\n",
    "after = len(df)\n",
    "print(f\"Dropped {before - after:,} plays with unknown genres\")\n",
    "\n",
    "# --- Summary stats ---\n",
    "total_plays = len(df)\n",
    "genre_counts = df['genre'].value_counts()\n",
    "\n",
    "print(f\"\\nTotal plays: {total_plays:,}\")\n",
    "print(f\"Unique genres: {df['genre'].nunique()}\")\n",
    "print(f\"\\nTop 10 genres by play count:\\n{genre_counts.head(10)}\")\n",
    "\n",
    "# --- Sample of artists with genres ---\n",
    "print(\"\\nSample of artists with their genres:\")\n",
    "print(df[['artist', 'genre']].drop_duplicates().head(20))"
   ]
  },
  {
   "cell_type": "markdown",
   "id": "5778c8b0",
   "metadata": {},
   "source": [
    "## Artist Genre Map Created\n",
    "- I now have all the artists without an unknown genre recorded and can now do a more in-depth analysis"
   ]
  }
 ],
 "metadata": {
  "kernelspec": {
   "display_name": "Python 3",
   "language": "python",
   "name": "python3"
  },
  "language_info": {
   "codemirror_mode": {
    "name": "ipython",
    "version": 3
   },
   "file_extension": ".py",
   "mimetype": "text/x-python",
   "name": "python",
   "nbconvert_exporter": "python",
   "pygments_lexer": "ipython3",
   "version": "3.13.3"
  }
 },
 "nbformat": 4,
 "nbformat_minor": 5
}
