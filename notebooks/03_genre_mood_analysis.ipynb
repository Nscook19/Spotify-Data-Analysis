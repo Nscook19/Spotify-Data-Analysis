{
 "cells": [
  {
   "cell_type": "markdown",
   "id": "97d314aa",
   "metadata": {},
   "source": [
    "# Adding Genre Data via Spotipy and Spotify API Access\n",
    "- This will allow me to do more in depth analysis on my data"
   ]
  },
  {
   "cell_type": "code",
   "execution_count": null,
   "id": "0684bd1f",
   "metadata": {},
   "outputs": [
    {
     "name": "stdout",
     "output_type": "stream",
     "text": [
      "Collecting spotipy\n",
      "  Downloading spotipy-2.25.1-py3-none-any.whl.metadata (5.1 kB)\n",
      "Collecting redis>=3.5.3 (from spotipy)\n",
      "  Downloading redis-6.2.0-py3-none-any.whl.metadata (10 kB)\n",
      "Requirement already satisfied: requests>=2.25.0 in c:\\users\\nscoo\\appdata\\local\\programs\\python\\python313\\lib\\site-packages (from spotipy) (2.32.4)\n",
      "Requirement already satisfied: urllib3>=1.26.0 in c:\\users\\nscoo\\appdata\\local\\programs\\python\\python313\\lib\\site-packages (from spotipy) (2.5.0)\n",
      "Requirement already satisfied: charset_normalizer<4,>=2 in c:\\users\\nscoo\\appdata\\local\\programs\\python\\python313\\lib\\site-packages (from requests>=2.25.0->spotipy) (3.4.0)\n",
      "Requirement already satisfied: idna<4,>=2.5 in c:\\users\\nscoo\\appdata\\local\\programs\\python\\python313\\lib\\site-packages (from requests>=2.25.0->spotipy) (3.10)\n",
      "Requirement already satisfied: certifi>=2017.4.17 in c:\\users\\nscoo\\appdata\\local\\programs\\python\\python313\\lib\\site-packages (from requests>=2.25.0->spotipy) (2025.4.26)\n",
      "Downloading spotipy-2.25.1-py3-none-any.whl (31 kB)\n",
      "Downloading redis-6.2.0-py3-none-any.whl (278 kB)\n",
      "Installing collected packages: redis, spotipy\n",
      "\n",
      "   ---------------------------------------- 0/2 [redis]\n",
      "   ---------------------------------------- 0/2 [redis]\n",
      "   ---------------------------------------- 0/2 [redis]\n",
      "   ---------------------------------------- 0/2 [redis]\n",
      "   ---------------------------------------- 0/2 [redis]\n",
      "   ---------------------------------------- 0/2 [redis]\n",
      "   -------------------- ------------------- 1/2 [spotipy]\n",
      "   ---------------------------------------- 2/2 [spotipy]\n",
      "\n",
      "Successfully installed redis-6.2.0 spotipy-2.25.1\n",
      "Note: you may need to restart the kernel to use updated packages.\n"
     ]
    }
   ],
   "source": [
    "import spotipy\n",
    "from spotipy.oauth2 import SpotifyClientCredentials\n",
    "\n",
    "# Replace with your credentials\n",
    "client_id = 'a7c9543950304b80910d8f05c4dc456f'\n",
    "client_secret = '7fc00e590aff42c29beaad69223cd567'\n",
    "\n",
    "auth_manager = SpotifyClientCredentials(client_id=client_id, client_secret=client_secret)\n",
    "sp = spotipy.Spotify(auth_manager=auth_manager)\n"
   ]
  }
 ],
 "metadata": {
  "kernelspec": {
   "display_name": "Python 3",
   "language": "python",
   "name": "python3"
  },
  "language_info": {
   "codemirror_mode": {
    "name": "ipython",
    "version": 3
   },
   "file_extension": ".py",
   "mimetype": "text/x-python",
   "name": "python",
   "nbconvert_exporter": "python",
   "pygments_lexer": "ipython3",
   "version": "3.13.3"
  }
 },
 "nbformat": 4,
 "nbformat_minor": 5
}
